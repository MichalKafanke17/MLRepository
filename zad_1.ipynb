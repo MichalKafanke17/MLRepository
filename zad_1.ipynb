{
 "cells": [
  {
   "cell_type": "code",
   "execution_count": 16,
   "id": "a8cc4b58",
   "metadata": {},
   "outputs": [],
   "source": [
    "class Student:\n",
    "    def __init__(self, name, marks):\n",
    "        self.name = name\n",
    "        self.marks = marks\n",
    "    def is_passed(self):\n",
    "        if sum(self.marks)/len(self.marks) > 50:\n",
    "            return True\n",
    "        return False"
   ]
  },
  {
   "cell_type": "code",
   "execution_count": 17,
   "id": "d05b4071",
   "metadata": {},
   "outputs": [],
   "source": [
    "s1 = Student('Jan', [20, 70, 80, 30, 90])\n",
    "s2 = Student('Jan', [20, 40, 70, 30, 10])"
   ]
  },
  {
   "cell_type": "code",
   "execution_count": 18,
   "id": "f176b5bb",
   "metadata": {},
   "outputs": [
    {
     "name": "stdout",
     "output_type": "stream",
     "text": [
      "True\n",
      "False\n"
     ]
    }
   ],
   "source": [
    "print(s1.is_passed())\n",
    "print(s2.is_passed())"
   ]
  }
 ],
 "metadata": {
  "kernelspec": {
   "display_name": "Python 3 (ipykernel)",
   "language": "python",
   "name": "python3"
  },
  "language_info": {
   "codemirror_mode": {
    "name": "ipython",
    "version": 3
   },
   "file_extension": ".py",
   "mimetype": "text/x-python",
   "name": "python",
   "nbconvert_exporter": "python",
   "pygments_lexer": "ipython3",
   "version": "3.9.12"
  }
 },
 "nbformat": 4,
 "nbformat_minor": 5
}
