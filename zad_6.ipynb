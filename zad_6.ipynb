{
 "cells": [
  {
   "cell_type": "code",
   "execution_count": 2,
   "id": "ac4a844a",
   "metadata": {},
   "outputs": [
    {
     "name": "stdout",
     "output_type": "stream",
     "text": [
      "[1, 8, 27, 64, 125, 216, 343, 512, 729, 1000]\n"
     ]
    }
   ],
   "source": [
    "def func(a : list, b : list) -> list:\n",
    "    res1 = a + b\n",
    "    res1 = [el ** 3 for el in res1]\n",
    "    res = []\n",
    "    for el in res1:\n",
    "        if el not in res:\n",
    "            res.append(el)\n",
    "    return res\n",
    "            \n",
    "res = func([1, 2, 3, 4, 5, 6, 7], [3, 4, 5, 6, 7, 8, 9, 10])\n",
    "\n",
    "print(res)"
   ]
  }
 ],
 "metadata": {
  "kernelspec": {
   "display_name": "Python 3 (ipykernel)",
   "language": "python",
   "name": "python3"
  },
  "language_info": {
   "codemirror_mode": {
    "name": "ipython",
    "version": 3
   },
   "file_extension": ".py",
   "mimetype": "text/x-python",
   "name": "python",
   "nbconvert_exporter": "python",
   "pygments_lexer": "ipython3",
   "version": "3.9.12"
  }
 },
 "nbformat": 4,
 "nbformat_minor": 5
}
