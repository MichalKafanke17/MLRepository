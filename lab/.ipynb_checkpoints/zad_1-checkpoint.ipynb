{
 "cells": [
  {
   "cell_type": "code",
   "execution_count": 24,
   "id": "8fa2ca0e",
   "metadata": {},
   "outputs": [],
   "source": [
    "import pytesseract\n",
    "pytesseract.pytesseract.tesseract_cmd = r'C:\\Users\\xMich\\OneDrive\\Pulpit\\lab_7\\tesseract.exe'\n",
    "from PIL import Image"
   ]
  },
  {
   "cell_type": "code",
   "execution_count": 25,
   "id": "30d06f00",
   "metadata": {},
   "outputs": [],
   "source": [
    "def str_from_img(img):\n",
    "    print(pytesseract.image_to_string(Image.open(img)))"
   ]
  },
  {
   "cell_type": "code",
   "execution_count": 26,
   "id": "5a077f7b",
   "metadata": {},
   "outputs": [
    {
     "name": "stdout",
     "output_type": "stream",
     "text": [
      "The second largest heading\n",
      "\n",
      "‘The smallest heading\n",
      "\n"
     ]
    }
   ],
   "source": [
    "str_from_img('pic1.png')"
   ]
  },
  {
   "cell_type": "code",
   "execution_count": 27,
   "id": "29217b37",
   "metadata": {},
   "outputs": [
    {
     "name": "stdout",
     "output_type": "stream",
     "text": [
      "Every path is\n",
      "the right path.\n",
      "\n"
     ]
    }
   ],
   "source": [
    "str_from_img('pic2.jpg')"
   ]
  },
  {
   "cell_type": "code",
   "execution_count": 28,
   "id": "2fc99739",
   "metadata": {},
   "outputs": [
    {
     "name": "stdout",
     "output_type": "stream",
     "text": [
      "® Texts\n",
      "\n",
      "One inbox.\n",
      "All your messages.\n",
      "\n"
     ]
    }
   ],
   "source": [
    "str_from_img('pic3.png')"
   ]
  }
 ],
 "metadata": {
  "kernelspec": {
   "display_name": "Python 3 (ipykernel)",
   "language": "python",
   "name": "python3"
  },
  "language_info": {
   "codemirror_mode": {
    "name": "ipython",
    "version": 3
   },
   "file_extension": ".py",
   "mimetype": "text/x-python",
   "name": "python",
   "nbconvert_exporter": "python",
   "pygments_lexer": "ipython3",
   "version": "3.9.12"
  }
 },
 "nbformat": 4,
 "nbformat_minor": 5
}
