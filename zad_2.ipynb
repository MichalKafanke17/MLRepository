{
 "cells": [
  {
   "cell_type": "code",
   "execution_count": 49,
   "id": "b5f59d75",
   "metadata": {},
   "outputs": [],
   "source": [
    "class Student:\n",
    "    def __init__(self, name, marks):\n",
    "        self.name = name\n",
    "        self.marks = marks\n",
    "    def __str__(self):\n",
    "        return f'Imie: {self.name}'"
   ]
  },
  {
   "cell_type": "code",
   "execution_count": 50,
   "id": "fce03ae4",
   "metadata": {},
   "outputs": [],
   "source": [
    "class Library:\n",
    "    def __init__(self, city, street, zip_code):\n",
    "        self.city = city\n",
    "        self.street = street\n",
    "        self.zip_code = zip_code\n",
    "    def __str__(self):\n",
    "        return f'Miasto: {self.city}, Ulica: {self.street}, Kod: {self.zip_code}'"
   ]
  },
  {
   "cell_type": "code",
   "execution_count": 51,
   "id": "9025eb22",
   "metadata": {},
   "outputs": [],
   "source": [
    "class Employee:\n",
    "    def __init__(self, first_name, last_name, hire_date, birth_date, city, street, zip_code, phone):\n",
    "        self.first_name = first_name\n",
    "        self.last_name = last_name\n",
    "        self.hire_date = hire_date\n",
    "        self.birth_date = birth_date\n",
    "        self.city = city\n",
    "        self.street = street\n",
    "        self.zip_code = zip_code\n",
    "        self.phone = phone\n",
    "    def __str__(self):\n",
    "        return f'Imię: {self.first_name}, Nazwisko: {self.last_name}, Data zatrudnienia: {self.hire_date}, Data urodzenia: {self.birth_date}, Miasto: {self.city}, Ulica: {self.street}, Kod: {self.zip_code}'"
   ]
  },
  {
   "cell_type": "code",
   "execution_count": 52,
   "id": "afcf4862",
   "metadata": {},
   "outputs": [],
   "source": [
    "class Book:\n",
    "    def __init__(self, library, publication_date, author_name, author_surname, number_of_pages):\n",
    "        self.library = library\n",
    "        self.publication_date = publication_date\n",
    "        self.author_name = author_name\n",
    "        self.author_surname = author_surname\n",
    "        self.number_of_pages = number_of_pages\n",
    "    def __str__(self):\n",
    "        return f'BIBLIOTEKA: {self.library.__str__()} \\n KSIĄŻKA: Data publikacji: {self.publication_date}, Imię: {self.author_name}, Nazwisko: {self.author_surname}, Liczba stron: {self.number_of_pages}'"
   ]
  },
  {
   "cell_type": "code",
   "execution_count": 53,
   "id": "2f98d4d4",
   "metadata": {},
   "outputs": [],
   "source": [
    "class Order:\n",
    "    def __init__(self, employee, student, books, order_date):\n",
    "        self.employee = employee\n",
    "        self.student = student\n",
    "        self.books = books\n",
    "        self.order_date = order_date\n",
    "    def __str__(self):\n",
    "        return f' PRACOWNIK: {self.employee.__str__()} \\n STUDENT: {self.student.__str__()} \\n {self.books.__str__()} \\n Data: {self.order_date}'"
   ]
  },
  {
   "cell_type": "code",
   "execution_count": 54,
   "id": "58d2cab9",
   "metadata": {},
   "outputs": [],
   "source": [
    "l1 = Library('Gliwice', 'Zwycięstwa', '44-100')\n",
    "l2 = Library('Gliwice', 'Wolności', '44-100')\n",
    "b1 = Book(l1, '17.10.2022', 'Jan', 'Kowalski', 250)\n",
    "b2 = Book(l1, '10.10.2022', 'Kamil', 'Paluch', 350)\n",
    "b3 = Book(l1, '7.10.2022', 'Grzegorz', 'Grzyb', 150)\n",
    "b4 = Book(l1, '5.10.2022', 'Kacper', 'Nowak', 50)\n",
    "b5 = Book(l1, '1.10.2022', 'Ula', 'Kowalska', 40)\n",
    "e1 = Employee('Adam', 'Kowal', '12.08.2017', '10.02.1990', 'Gliwice', 'Zwycięstwa', '44-100', '509238129')\n",
    "e2 = Employee('Kamil', 'Biskup', '1.05.2009', '10.07.1975', 'Gliwice', 'Długa', '44-100', '509258629')\n",
    "e3 = Employee('Agnieszka', 'Osa', '12.02.2015', '10.04.1995', 'Gliwice', 'Piękna', '44-100', '302238122')\n",
    "s1 = Student('Aleksandra', [23, 12, 78, 90])\n",
    "s2 = Student('Wojciech', [13, 62, 28, 60])\n",
    "s3 = Student('Karol', [77, 98, 34, 100])\n",
    "o1 = Order(e1, s2, b4, '17.10.2022')\n",
    "o2 = Order(e3, s1, b1, '13.10.2022')"
   ]
  },
  {
   "cell_type": "code",
   "execution_count": 55,
   "id": "ef20c1bf",
   "metadata": {},
   "outputs": [
    {
     "name": "stdout",
     "output_type": "stream",
     "text": [
      " PRACOWNIK: Imię: Adam, Nazwisko: Kowal, Data zatrudnienia: 12.08.2017, Data urodzenia: 10.02.1990, Miasto: Gliwice, Ulica: Zwycięstwa, Kod: 44-100 \n",
      " STUDENT: Imie: Wojciech \n",
      " BIBLIOTEKA: Miasto: Gliwice, Ulica: Zwycięstwa, Kod: 44-100 \n",
      " KSIĄŻKA: Data publikacji: 5.10.2022, Imię: Kacper, Nazwisko: Nowak, Liczba stron: 50 \n",
      " Data: 17.10.2022\n",
      " PRACOWNIK: Imię: Agnieszka, Nazwisko: Osa, Data zatrudnienia: 12.02.2015, Data urodzenia: 10.04.1995, Miasto: Gliwice, Ulica: Piękna, Kod: 44-100 \n",
      " STUDENT: Imie: Aleksandra \n",
      " BIBLIOTEKA: Miasto: Gliwice, Ulica: Zwycięstwa, Kod: 44-100 \n",
      " KSIĄŻKA: Data publikacji: 17.10.2022, Imię: Jan, Nazwisko: Kowalski, Liczba stron: 250 \n",
      " Data: 13.10.2022\n"
     ]
    }
   ],
   "source": [
    "print(o1)\n",
    "print(o2)"
   ]
  }
 ],
 "metadata": {
  "kernelspec": {
   "display_name": "Python 3 (ipykernel)",
   "language": "python",
   "name": "python3"
  },
  "language_info": {
   "codemirror_mode": {
    "name": "ipython",
    "version": 3
   },
   "file_extension": ".py",
   "mimetype": "text/x-python",
   "name": "python",
   "nbconvert_exporter": "python",
   "pygments_lexer": "ipython3",
   "version": "3.9.12"
  }
 },
 "nbformat": 4,
 "nbformat_minor": 5
}
