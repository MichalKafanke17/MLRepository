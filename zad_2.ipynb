{
 "cells": [
  {
   "cell_type": "code",
   "execution_count": 8,
   "id": "2fb17c09",
   "metadata": {},
   "outputs": [
    {
     "name": "stdout",
     "output_type": "stream",
     "text": [
      "Kasia\n",
      "Wojtek\n",
      "Asia\n",
      "Kamil\n",
      "Krzysiu\n"
     ]
    }
   ],
   "source": [
    "#A\n",
    "\n",
    "def func(names):\n",
    "    for name in names:\n",
    "        print(name)\n",
    "\n",
    "names = ['Kasia', 'Wojtek', 'Asia', 'Kamil', 'Krzysiu']\n",
    "\n",
    "func(names)"
   ]
  },
  {
   "cell_type": "code",
   "execution_count": 9,
   "id": "354efe14",
   "metadata": {},
   "outputs": [
    {
     "data": {
      "text/plain": [
       "[6, 10, 16, 18, 24]"
      ]
     },
     "execution_count": 9,
     "metadata": {},
     "output_type": "execute_result"
    }
   ],
   "source": [
    "#B1\n",
    "\n",
    "def x2(numbers):\n",
    "    res = []\n",
    "    for number in numbers:\n",
    "        res.append(number * 2)\n",
    "    return res\n",
    "\n",
    "numbers = [3, 5, 8, 9, 12]\n",
    "\n",
    "x2(numbers)"
   ]
  },
  {
   "cell_type": "code",
   "execution_count": 10,
   "id": "6f8fe15d",
   "metadata": {},
   "outputs": [
    {
     "data": {
      "text/plain": [
       "[6, 10, 16, 18, 24]"
      ]
     },
     "execution_count": 10,
     "metadata": {},
     "output_type": "execute_result"
    }
   ],
   "source": [
    "#B2\n",
    "\n",
    "def x2(numbers):\n",
    "    return [number * 2 for number in numbers]\n",
    "\n",
    "numbers = [3, 5, 8, 9, 12]\n",
    "\n",
    "x2(numbers)"
   ]
  },
  {
   "cell_type": "code",
   "execution_count": 11,
   "id": "f951c970",
   "metadata": {},
   "outputs": [
    {
     "name": "stdout",
     "output_type": "stream",
     "text": [
      "12\n",
      "24\n",
      "82\n",
      "90\n",
      "34\n",
      "44\n"
     ]
    }
   ],
   "source": [
    "#C\n",
    "\n",
    "def even(numbers):\n",
    "    for number in numbers:\n",
    "        if number % 2 == 0:\n",
    "            print(number)\n",
    "            \n",
    "numbers = [12, 24, 3, 82, 7, 90, 34, 21, 77, 44]\n",
    "\n",
    "even(numbers)"
   ]
  },
  {
   "cell_type": "code",
   "execution_count": 14,
   "id": "35074dd2",
   "metadata": {},
   "outputs": [
    {
     "name": "stdout",
     "output_type": "stream",
     "text": [
      "12\n",
      "3\n",
      "7\n",
      "34\n",
      "77\n"
     ]
    }
   ],
   "source": [
    "#D\n",
    "\n",
    "def func(numbers):\n",
    "    for i in range(0, len(numbers), 2):\n",
    "        print(numbers[i])\n",
    "        \n",
    "numbers = [12, 24, 3, 82, 7, 90, 34, 21, 77, 44]\n",
    "\n",
    "func(numbers)"
   ]
  }
 ],
 "metadata": {
  "kernelspec": {
   "display_name": "Python 3 (ipykernel)",
   "language": "python",
   "name": "python3"
  },
  "language_info": {
   "codemirror_mode": {
    "name": "ipython",
    "version": 3
   },
   "file_extension": ".py",
   "mimetype": "text/x-python",
   "name": "python",
   "nbconvert_exporter": "python",
   "pygments_lexer": "ipython3",
   "version": "3.9.12"
  }
 },
 "nbformat": 4,
 "nbformat_minor": 5
}
