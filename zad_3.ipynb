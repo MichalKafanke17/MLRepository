{
 "cells": [
  {
   "cell_type": "code",
   "execution_count": 7,
   "id": "c973c536",
   "metadata": {},
   "outputs": [],
   "source": [
    "class Property:\n",
    "    def __init__(self, area, rooms, price, address):\n",
    "        self.area = area\n",
    "        self.rooms = rooms\n",
    "        self.price = price\n",
    "        self.address = address"
   ]
  },
  {
   "cell_type": "code",
   "execution_count": 8,
   "id": "2d839a69",
   "metadata": {},
   "outputs": [],
   "source": [
    "class House(Property):\n",
    "    def __init__(self, area, rooms, price, address, plot):\n",
    "        super().__init__(area, rooms, price, address)\n",
    "        self.plot = plot\n",
    "    def __str__(self):\n",
    "        return f'Area: {self.area}, Rooms: {self.rooms}, Price: {self.price}, Address: {self.address}, Plot: {self.plot}'"
   ]
  },
  {
   "cell_type": "code",
   "execution_count": 9,
   "id": "526ebe31",
   "metadata": {},
   "outputs": [],
   "source": [
    "class Flat(Property):\n",
    "    def __init__(self, area, rooms, price, address, floor):\n",
    "        super().__init__(area, rooms, price, address)\n",
    "        self.floor = floor\n",
    "    def __str__(self):\n",
    "        return f'Area: {self.area}, Rooms: {self.rooms}, Price: {self.price}, Address: {self.address}, Floor: {self.floor}'"
   ]
  },
  {
   "cell_type": "code",
   "execution_count": 10,
   "id": "7069ea28",
   "metadata": {},
   "outputs": [],
   "source": [
    "h = House(120, 4, 900000, 'Gliwice', 300)\n",
    "f = Flat(70, 3, 750000, 'Gliwice', 3)"
   ]
  },
  {
   "cell_type": "code",
   "execution_count": 11,
   "id": "20b6bf7c",
   "metadata": {},
   "outputs": [
    {
     "name": "stdout",
     "output_type": "stream",
     "text": [
      "Area: 120, Rooms: 4, Price: 900000, Address: Gliwice, Plot: 300\n",
      "Area: 70, Rooms: 3, Price: 750000, Address: Gliwice, Floor: 3\n"
     ]
    }
   ],
   "source": [
    "print(h)\n",
    "print(f)"
   ]
  }
 ],
 "metadata": {
  "kernelspec": {
   "display_name": "Python 3 (ipykernel)",
   "language": "python",
   "name": "python3"
  },
  "language_info": {
   "codemirror_mode": {
    "name": "ipython",
    "version": 3
   },
   "file_extension": ".py",
   "mimetype": "text/x-python",
   "name": "python",
   "nbconvert_exporter": "python",
   "pygments_lexer": "ipython3",
   "version": "3.9.12"
  }
 },
 "nbformat": 4,
 "nbformat_minor": 5
}
