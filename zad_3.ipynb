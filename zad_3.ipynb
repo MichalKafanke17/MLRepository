{
 "cells": [
  {
   "cell_type": "code",
   "execution_count": 2,
   "id": "19223221",
   "metadata": {},
   "outputs": [
    {
     "name": "stdout",
     "output_type": "stream",
     "text": [
      "Liczba przysta\n"
     ]
    }
   ],
   "source": [
    "def func(a : int) -> bool:\n",
    "    if a % 2 == 0:\n",
    "        return True\n",
    "    return False\n",
    "\n",
    "res = func(12)\n",
    "\n",
    "if res:\n",
    "    print('Liczba przysta')\n",
    "else:\n",
    "    print('Liczba nieparzysta')"
   ]
  }
 ],
 "metadata": {
  "kernelspec": {
   "display_name": "Python 3 (ipykernel)",
   "language": "python",
   "name": "python3"
  },
  "language_info": {
   "codemirror_mode": {
    "name": "ipython",
    "version": 3
   },
   "file_extension": ".py",
   "mimetype": "text/x-python",
   "name": "python",
   "nbconvert_exporter": "python",
   "pygments_lexer": "ipython3",
   "version": "3.9.12"
  }
 },
 "nbformat": 4,
 "nbformat_minor": 5
}
