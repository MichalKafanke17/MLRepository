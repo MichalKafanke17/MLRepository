{
 "cells": [
  {
   "cell_type": "code",
   "execution_count": 1,
   "id": "9ae5a4d3",
   "metadata": {},
   "outputs": [],
   "source": [
    "import cv2\n",
    "import numpy as np"
   ]
  },
  {
   "cell_type": "code",
   "execution_count": 2,
   "id": "b2dc3ea1",
   "metadata": {},
   "outputs": [],
   "source": [
    "cap = cv2.VideoCapture('one round kam4.MP4')\n",
    "video_cod = cv2.VideoWriter_fourcc(*'MP4v')\n",
    "video_output = cv2.VideoWriter('video_output.MP4', video_cod, 50, (1920, 1080), True)"
   ]
  },
  {
   "cell_type": "code",
   "execution_count": 3,
   "id": "f92770fe",
   "metadata": {},
   "outputs": [],
   "source": [
    "l_red1 = np.array([0, 150, 50])\n",
    "d_red1 = np.array([5, 255, 255])\n",
    "l_red2 = np.array([170, 150, 50])\n",
    "d_red2 = np.array([180, 255, 255])\n",
    "l_blue = np.array([90, 80, 0])\n",
    "d_blue = np.array([125, 255, 255])"
   ]
  },
  {
   "cell_type": "code",
   "execution_count": 4,
   "id": "0bb9d8de",
   "metadata": {},
   "outputs": [],
   "source": [
    "while(cap.isOpened()):\n",
    "    \n",
    "    r, frame = cap.read()\n",
    "    \n",
    "    if not r:\n",
    "        break\n",
    "    \n",
    "    hsv = cv2.cvtColor(frame, cv2.COLOR_BGR2HSV)\n",
    "    \n",
    "    mask1 = cv2.inRange(hsv, l_red1, d_red1)\n",
    "    mask2 = cv2.inRange(hsv, l_red2, d_red2)\n",
    "    mask3 = cv2.inRange(hsv, l_blue, d_blue)\n",
    "    mask = mask1 + mask2 + mask3\n",
    "\n",
    "    output = cv2.bitwise_and(frame, frame, mask = mask)\n",
    "    \n",
    "    video_output.write(output)\n",
    "    \n",
    "    if cv2.waitKey(1) & 0xFF == ord('Q'):\n",
    "        break"
   ]
  },
  {
   "cell_type": "code",
   "execution_count": 5,
   "id": "d2a82457",
   "metadata": {},
   "outputs": [],
   "source": [
    "cap.release()\n",
    "video_output.release()"
   ]
  }
 ],
 "metadata": {
  "kernelspec": {
   "display_name": "Python 3 (ipykernel)",
   "language": "python",
   "name": "python3"
  },
  "language_info": {
   "codemirror_mode": {
    "name": "ipython",
    "version": 3
   },
   "file_extension": ".py",
   "mimetype": "text/x-python",
   "name": "python",
   "nbconvert_exporter": "python",
   "pygments_lexer": "ipython3",
   "version": "3.9.12"
  }
 },
 "nbformat": 4,
 "nbformat_minor": 5
}
